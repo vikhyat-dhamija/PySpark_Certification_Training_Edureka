{
 "cells": [
  {
   "cell_type": "code",
   "execution_count": null,
   "metadata": {
    "collapsed": true
   },
   "outputs": [],
   "source": [
    "#Business challenge/requirement LifeTel Telecom is the latest entrant in the highly competitive Telecom market of Singapore.  \n",
    "#It issues SIM to the verified users.  \n",
    "#Till now verification was manual through the photocopy of approved id card document. \n",
    "#However, government has recently introduced Social ID called Reference ID which is mapped to fingerprint of user. \n",
    "#LifeTel should now verify user against the fingerprint and Reference ID "
   ]
  },
  {
   "cell_type": "code",
   "execution_count": null,
   "metadata": {
    "collapsed": true
   },
   "outputs": [],
   "source": [
    "#Key issues Build a system where when user enters Reference ID it is encrypted, \n",
    "#so that hackers cannot view the mapping of Reference ID and finger print.\n",
    "\n",
    "#Approach to Solve You have to use fundamentals of Python taught in module 2 \n",
    "#Step 1. Read the input from command line – Reference ID \n",
    "#Step 2. Check for validity – it should be 12 digits and allows on number and alphabet \n",
    "#Step 3. Encrypt the Reference ID and print it for reference \n"
   ]
  },
  {
   "cell_type": "code",
   "execution_count": 6,
   "metadata": {},
   "outputs": [
    {
     "name": "stdout",
     "output_type": "stream",
     "text": [
      "Please enter the refrence_idVikhyat123#@\n",
      "Your Typed refrence id is the one below \n",
      "Vikhyat123#@\n",
      "Your encoded refrence id is as follows :  b'VmlraHlhdDEyMyNA'\n",
      "Do You want to decode the refrence ID : Y/NY\n",
      "Your decoded refrence id is as follows :  Vikhyat123#@\n"
     ]
    }
   ],
   "source": [
    "#Here we will be using the same approach using the regex module to search the perfect string in the refrence ID given\n",
    "import codecs\n",
    "import re\n",
    "import base64\n",
    "\n",
    "#Step 1:\n",
    "refrence_id=input(\"Please enter the refrence_id\")\n",
    "print(\"Your Typed refrence id is the one below \")\n",
    "print(refrence_id)\n",
    "\n",
    "\n",
    "#step 2: Checking the validity of the Reference ID :\n",
    "\n",
    "#Program using regex because regex is the better way of solving such problems \n",
    "\n",
    "#Refernce_id should be of 6 to 12 length and[ any character among a-z and any character among A-Z and any character among 0 to 9 and presence of any among @#$ ] is compulsary\n",
    "if len(refrence_id) >= 6 and len(refrence_id) <= 12 and re.search(\"[a-z]+\",refrence_id) != None and re.search(\"[0-9]+\",refrence_id) != None and re.search(\"[A-Z]+\",refrence_id) != None and re.search(\"['$','#','@']+\",refrence_id) != None : \n",
    "    \n",
    "    #step 3 : Encrypt the Refernce_ID \n",
    "        \n",
    "        encoded4 = codecs.encode(refrence_id , 'utf-8') # first converting the string into UTF -8 Unicodes\n",
    "        encoded_final=base64.b64encode(encoded4) # then using base64 encoding\n",
    "        #print this encoded reference id as desired in the task\n",
    "        print(\"Your encoded refrence id is as follows : \" , encoded_final) # printing the encoded final \n",
    "        \n",
    "        decode_flag=input(\"Do You want to decode the refrence ID : Y/N\")\n",
    "        \n",
    "        if(decode_flag == 'Y'):\n",
    "            decoded = base64.b64decode(encoded_final)\n",
    "            decoded_final= codecs.decode(decoded , 'utf-8')\n",
    "            print(\"Your decoded refrence id is as follows : \" , decoded_final)\n",
    "else :\n",
    "    print(\"Your Typed refrence id is incorrect please try again\")\n"
   ]
  },
  {
   "cell_type": "code",
   "execution_count": null,
   "metadata": {},
   "outputs": [],
   "source": [
    "# above is the simple piece of code doing the functionality as desired in the task assigned \n",
    "#The above piece of code can be used in the loop etc to get input persistently from the user\n",
    "\n",
    "# I have just done the task as assigned\n",
    "\n",
    "# Used Base64 encoding \n",
    "\n",
    "#Encoding the data into base64 format gives you the exact same data but in a format that ensures it is safe for sending over electronic media such as email.\n",
    "\n",
    "#so as our use case was of sending it through communication channel the base64 is good encoding , other wise others like AES etc can also be used\n",
    "\n",
    "#Base 64 is widely used in E mail transmisisons and other applications also\n",
    "\n",
    "\n"
   ]
  }
 ],
 "metadata": {
  "kernelspec": {
   "display_name": "Python 3",
   "language": "python",
   "name": "python3"
  },
  "language_info": {
   "codemirror_mode": {
    "name": "ipython",
    "version": 3
   },
   "file_extension": ".py",
   "mimetype": "text/x-python",
   "name": "python",
   "nbconvert_exporter": "python",
   "pygments_lexer": "ipython3",
   "version": "3.6.3"
  }
 },
 "nbformat": 4,
 "nbformat_minor": 2
}
