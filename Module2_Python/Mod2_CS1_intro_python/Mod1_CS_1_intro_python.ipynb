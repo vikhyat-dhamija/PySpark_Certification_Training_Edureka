{
 "cells": [
  {
   "cell_type": "code",
   "execution_count": 6,
   "metadata": {},
   "outputs": [
    {
     "name": "stdout",
     "output_type": "stream",
     "text": [
      "4\n"
     ]
    }
   ],
   "source": [
    "#1 Output based :\n",
    "\n",
    "nums = set([1,1,2,3,3,3,4,4])  \n",
    "print(len(nums))\n"
   ]
  },
  {
   "cell_type": "code",
   "execution_count": 7,
   "metadata": {},
   "outputs": [
    {
     "name": "stdout",
     "output_type": "stream",
     "text": [
      "['john', 'peter']\n"
     ]
    }
   ],
   "source": [
    "#2 Output Based\n",
    "\n",
    "d = {\"john\":40, \"peter\":45} \n",
    "print(list(d.keys()))"
   ]
  },
  {
   "cell_type": "code",
   "execution_count": null,
   "metadata": {
    "collapsed": true
   },
   "outputs": [],
   "source": [
    "#3. A website requires a user to input username and password to register. \n",
    "#Write a program to check the validity of password given by user. \n",
    "#Following are the criteria for checking password:  \n",
    " #1. At least 1 letter between [a-z] \n",
    "#2. At least 1 number between [0-9]  \n",
    "#1. At least 1 letter between [A-Z]  \n",
    "#3. At least 1 character from [$#@]  \n",
    "#4. Minimum length of transaction password: 6\n",
    "#6  5. Maximum length of transaction password: 12   \n",
    "#Hint: In case of input data being supplied to the question, it should be assumed to be a console input. "
   ]
  },
  {
   "cell_type": "code",
   "execution_count": 8,
   "metadata": {},
   "outputs": [
    {
     "name": "stdout",
     "output_type": "stream",
     "text": [
      "Please enter the password VVVVikiiikkjjhh\n",
      "VVVVikiiikkjjhh\n",
      "password is incorrect\n"
     ]
    }
   ],
   "source": [
    "#Program using regex because regex is the better way of solving such problems \n",
    "import re\n",
    "\n",
    "password=input(\"Please enter the password \")\n",
    "print(password)\n",
    "\n",
    "if len(password) >= 6 and len(password) <= 12 and re.search(\"[a-z]+\",password) != None and re.search(\"[0-9]+\",password) != None and re.search(\"[A-Z]+\",password) != None and re.search(\"['$','#','@']+\",password) != None : \n",
    "    print(\"Password is correct\")\n",
    "else :\n",
    "    print(\"password is incorrect\")\n",
    "\n",
    "    \n",
    "\n",
    "\n"
   ]
  },
  {
   "cell_type": "code",
   "execution_count": 9,
   "metadata": {},
   "outputs": [
    {
     "name": "stdout",
     "output_type": "stream",
     "text": [
      "0 4\n",
      "1 7\n",
      "2 3\n",
      "3 2\n",
      "4 5\n",
      "5 9\n"
     ]
    }
   ],
   "source": [
    "#4 : Write a for loop that prints all elements of a list and their position in the list. \n",
    "\n",
    "a = [4,7,3,2,5,9]  #Hint: Use Loop to iterate through list elements. \n",
    "   \n",
    "for(i,pos) in enumerate(a):\n",
    "    print(i,pos)\n",
    "\n"
   ]
  },
  {
   "cell_type": "code",
   "execution_count": 1,
   "metadata": {},
   "outputs": [
    {
     "name": "stdout",
     "output_type": "stream",
     "text": [
      "Please enter the string H1e2l3l4o5w6o7r8l9d\n",
      "H1e2l3l4o5w6o7r8l9d\n",
      "Helloworld\n"
     ]
    }
   ],
   "source": [
    "#5 : Please write a program which accepts a string from console and print the characters that have even indexes.              \n",
    "#Example: If the following string is given as input to the program:              \n",
    "#H1e2l3l4o5w6o7r8l9d              \n",
    "#hence , the output of the program should be:              \n",
    "#Helloworld\n",
    "\n",
    "input_string=input(\"Please enter the string \")\n",
    "print(input_string)\n",
    "\n",
    "result=\"\"\n",
    "\n",
    "for(i,pos) in enumerate(input_string):\n",
    "     if i % 2 == 0 :\n",
    "            result+=pos\n",
    "\n",
    "print(result)\n",
    "\n",
    "\n",
    "\n"
   ]
  },
  {
   "cell_type": "code",
   "execution_count": 2,
   "metadata": {},
   "outputs": [
    {
     "name": "stdout",
     "output_type": "stream",
     "text": [
      "Please enter the string rise to vote sir\n",
      "rise to vote sir\n",
      "ris etov ot esir\n"
     ]
    }
   ],
   "source": [
    "#6. Please write a program which accepts a string from console and print it in reverse order.              \n",
    "#Example: If the following string is given as input to the program:               \n",
    "#rise to vote sir             \n",
    "#Then, the output of the program should be:              \n",
    "#ris etov ot esir\n",
    "\n",
    "input_string=input(\"Please enter the string \")\n",
    "print(input_string)\n",
    "\n",
    "print(input_string[-1:-(len(input_string)+1):-1])\n",
    "\n",
    "\n",
    "\n",
    "\n",
    "\n"
   ]
  },
  {
   "cell_type": "code",
   "execution_count": 5,
   "metadata": {},
   "outputs": [
    {
     "name": "stdout",
     "output_type": "stream",
     "text": [
      "Please enter the string VVVViiikkkkkhhhhhyyyyaaaaattttttiiiii\n",
      "VVVViiikkkkkhhhhhyyyyaaaaattttttiiiii\n",
      "{'V': 4, 'i': 8, 'k': 5, 'h': 5, 'y': 4, 'a': 5, 't': 6}\n"
     ]
    }
   ],
   "source": [
    "#7. Please write a program which count and print the numbers of each character in a string input by console\n",
    "\n",
    "input_string=input(\"Please enter the string \")\n",
    "print(input_string)\n",
    "\n",
    "res={}\n",
    "\n",
    "for i in input_string :\n",
    "        if i in res.keys():\n",
    "            res[i] = res[i]+1\n",
    "        else:\n",
    "            res[i] = 1\n",
    "    \n",
    "print(res)\n",
    "\n"
   ]
  },
  {
   "cell_type": "code",
   "execution_count": 3,
   "metadata": {},
   "outputs": [
    {
     "name": "stdout",
     "output_type": "stream",
     "text": [
      "{35}\n"
     ]
    }
   ],
   "source": [
    "#8. With two given lists [1,3,6,78,35,55] and [12,24,35,24,88,120,155], \n",
    "#write a program to make a list whose elements are intersection of the above given lists. \n",
    "\n",
    "a=[1,3,6,78,35,55] \n",
    "b=[12,24,35,24,88,120,155]\n",
    "\n",
    "print(set(a).intersection(set(b)))"
   ]
  },
  {
   "cell_type": "code",
   "execution_count": 4,
   "metadata": {},
   "outputs": [
    {
     "name": "stdout",
     "output_type": "stream",
     "text": [
      "[155, 120, 88, 35, 24, 12]\n"
     ]
    }
   ],
   "source": [
    "#9. With a given list [12,24,35,24,88,120,155,88,120,155], \n",
    "#write a program to print this list after \n",
    "#removing all duplicate values with original order reserved.\n",
    "\n",
    "a=[12,24,35,24,88,120,155,88,120,155]\n",
    "res = [i for n, i in enumerate(a) if i not in a[:n]]\n",
    "print(res[::-1])\n",
    "\n",
    "#list(set(a))\n"
   ]
  },
  {
   "cell_type": "code",
   "execution_count": 5,
   "metadata": {},
   "outputs": [
    {
     "name": "stdout",
     "output_type": "stream",
     "text": [
      "[35, 12, 88, 155, 120]\n"
     ]
    }
   ],
   "source": [
    "#10. By using list comprehension, please write a program to print the \n",
    "#list after removing the value 24 in \n",
    "a=[12,24,35,24,88,120,155]\n",
    "\n",
    "print(list(set(a).difference(set([24]))))\n",
    "\n"
   ]
  },
  {
   "cell_type": "code",
   "execution_count": 6,
   "metadata": {},
   "outputs": [
    {
     "name": "stdout",
     "output_type": "stream",
     "text": [
      "[24, 35, 70, 155]\n"
     ]
    }
   ],
   "source": [
    "#11.By using list comprehension, \n",
    "#please write a program to \n",
    "#print the list after removing the 0th,4th,5th numbers in \n",
    "\n",
    "a=[12,24,35,70,88,120,155]\n",
    "print([i for n,i in enumerate(a) if n not in [0,4,5]])\n"
   ]
  },
  {
   "cell_type": "code",
   "execution_count": 7,
   "metadata": {},
   "outputs": [
    {
     "name": "stdout",
     "output_type": "stream",
     "text": [
      "[12, 24, 88, 120, 155]\n"
     ]
    }
   ],
   "source": [
    "#12.By using list comprehension, please write a program to print the list \n",
    "#after removing delete numbers which are divisible by 5 and 7 in [12,24,35,70,88,120,155].\n",
    "\n",
    "a=[12,24,35,70,88,120,155]\n",
    "i=0\n",
    "y=len(a)\n",
    "while i < y :\n",
    "    if a[i] % 7 == 0 and a[i] % 5 == 0 :   \n",
    "                del(a[i])  \n",
    "                i-=1\n",
    "                y-=1\n",
    "    i+=1\n",
    "print(a)"
   ]
  },
  {
   "cell_type": "code",
   "execution_count": 8,
   "metadata": {},
   "outputs": [
    {
     "name": "stdout",
     "output_type": "stream",
     "text": [
      "[595, 840, 525, 210, 840]\n"
     ]
    }
   ],
   "source": [
    "#13.Please write a program to randomly generate a list with 5 numbers, \n",
    "#which are divisible by 5 and 7 , between 1 and 1000 inclusive\n",
    "import random\n",
    "from random import random\n",
    "from random import randrange\n",
    "\n",
    "res=[]\n",
    "i=0\n",
    "while i < 5:\n",
    "    x=randrange(1,1000,1)\n",
    "    if(x % 35 == 0):\n",
    "        res+=[x]\n",
    "        i+=1\n",
    "\n",
    "print(res)\n"
   ]
  },
  {
   "cell_type": "code",
   "execution_count": 9,
   "metadata": {},
   "outputs": [
    {
     "name": "stdout",
     "output_type": "stream",
     "text": [
      "Please enter the password 5\n",
      "3.5500000000000003\n"
     ]
    }
   ],
   "source": [
    "#14 Write a program to compute 1/2+2/3+3/4+...+n/n+1 with a given n input by console (n>0). \n",
    "#Example: If the following n is given as input to the program: 5 \n",
    "#Then, the output of the program should be: 3.55 \n",
    "\n",
    "n=int(input(\"Please enter the password \"))\n",
    "res=0.0\n",
    "for i in range(n):\n",
    "    res+=float(i+1)/float(i+2)\n",
    "\n",
    "print(res)"
   ]
  },
  {
   "cell_type": "code",
   "execution_count": null,
   "metadata": {
    "collapsed": true
   },
   "outputs": [],
   "source": []
  }
 ],
 "metadata": {
  "kernelspec": {
   "display_name": "Python 3",
   "language": "python",
   "name": "python3"
  },
  "language_info": {
   "codemirror_mode": {
    "name": "ipython",
    "version": 3
   },
   "file_extension": ".py",
   "mimetype": "text/x-python",
   "name": "python",
   "nbconvert_exporter": "python",
   "pygments_lexer": "ipython3",
   "version": "3.6.3"
  }
 },
 "nbformat": 4,
 "nbformat_minor": 2
}
